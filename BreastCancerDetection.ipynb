{
  "nbformat": 4,
  "nbformat_minor": 0,
  "metadata": {
    "colab": {
      "provenance": [],
      "authorship_tag": "ABX9TyNMMyhNGag2F8nyCz2TbSW0",
      "include_colab_link": true
    },
    "kernelspec": {
      "name": "python3",
      "display_name": "Python 3"
    },
    "language_info": {
      "name": "python"
    }
  },
  "cells": [
    {
      "cell_type": "markdown",
      "metadata": {
        "id": "view-in-github",
        "colab_type": "text"
      },
      "source": [
        "<a href=\"https://colab.research.google.com/github/rohitkeshri803/Breast-Cancer-Detection/blob/main/BreastCancerDetection.ipynb\" target=\"_parent\"><img src=\"https://colab.research.google.com/assets/colab-badge.svg\" alt=\"Open In Colab\"/></a>"
      ]
    },
    {
      "cell_type": "code",
      "source": [
        "import torch\n",
        "import torch.nn as nn\n",
        "import torch.optim as optim\n",
        "import numpy as np\n",
        "from sklearn.datasets import load_breast_cancer\n",
        "from sklearn.model_selection import KFold\n",
        "from sklearn.preprocessing import StandardScaler\n",
        "from sklearn.metrics import accuracy_score"
      ],
      "metadata": {
        "id": "KENi5RyPPCkO"
      },
      "execution_count": 1,
      "outputs": []
    },
    {
      "cell_type": "code",
      "source": [
        "# Device Configuration\n",
        "device = torch.device(\"cuda\" if torch.cuda.is_available() else \"cpu\")\n",
        "print(f\"Using device: {device}\")"
      ],
      "metadata": {
        "id": "EIhPe6jzPCng",
        "outputId": "ed01374e-01e0-46dc-aa3a-36ceeb76e54e",
        "colab": {
          "base_uri": "https://localhost:8080/"
        }
      },
      "execution_count": 2,
      "outputs": [
        {
          "output_type": "stream",
          "name": "stdout",
          "text": [
            "Using device: cpu\n"
          ]
        }
      ]
    },
    {
      "cell_type": "code",
      "source": [
        "# Set seeds for reproducibility\n",
        "torch.manual_seed(42)\n",
        "np.random.seed(42)"
      ],
      "metadata": {
        "id": "8PbZnprHPCtS"
      },
      "execution_count": 4,
      "outputs": []
    },
    {
      "cell_type": "code",
      "source": [
        "# Load data\n",
        "data = load_breast_cancer()\n",
        "X = data.data\n",
        "y = data.target"
      ],
      "metadata": {
        "id": "zFRiaKj_PCwt"
      },
      "execution_count": 5,
      "outputs": []
    },
    {
      "cell_type": "code",
      "source": [
        "# Standardize features\n",
        "scaler = StandardScaler()\n",
        "X = scaler.fit_transform(X)"
      ],
      "metadata": {
        "id": "1pQHgKiqPC0P"
      },
      "execution_count": 6,
      "outputs": []
    },
    {
      "cell_type": "code",
      "source": [
        "# Convert full dataset to torch tensors\n",
        "X_tensor = torch.tensor(X, dtype=torch.float32)\n",
        "y_tensor = torch.tensor(y, dtype=torch.float32)"
      ],
      "metadata": {
        "id": "k9ktiw8wPC3y"
      },
      "execution_count": 7,
      "outputs": []
    },
    {
      "cell_type": "code",
      "source": [
        "# Neural Net Class (No Sigmoid, BCEWithLogitsLoss will handle that)\n",
        "class NeuralNet(nn.Module):\n",
        "    def __init__(self, input_size, hidden_size, output_size=1):\n",
        "        super(NeuralNet, self).__init__()\n",
        "        self.fc1 = nn.Linear(input_size, hidden_size)\n",
        "        self.relu = nn.ReLU()\n",
        "        self.fc2 = nn.Linear(hidden_size, output_size)\n",
        "\n",
        "    def forward(self, x):\n",
        "        x = self.fc1(x)\n",
        "        x = self.relu(x)\n",
        "        x = self.fc2(x)\n",
        "        return x"
      ],
      "metadata": {
        "id": "kVgV5oGdPC7T"
      },
      "execution_count": 9,
      "outputs": []
    },
    {
      "cell_type": "code",
      "source": [
        "# Hyperparameter grid\n",
        "hidden_sizes = [32, 64]\n",
        "learning_rates = [0.001, 0.01]\n",
        "num_epochs = 50\n",
        "k_folds = 5\n"
      ],
      "metadata": {
        "id": "J_BoXliLQQf0"
      },
      "execution_count": 10,
      "outputs": []
    },
    {
      "cell_type": "code",
      "source": [
        "# Cross-validation setup\n",
        "kf = KFold(n_splits=k_folds, shuffle=True, random_state=42)\n",
        "input_size = X.shape[1]"
      ],
      "metadata": {
        "id": "MamwSeUaQQot"
      },
      "execution_count": 11,
      "outputs": []
    },
    {
      "cell_type": "code",
      "source": [
        "best_config = None\n",
        "best_val_acc = 0.0"
      ],
      "metadata": {
        "id": "ePe1rkQGQQsO"
      },
      "execution_count": 12,
      "outputs": []
    },
    {
      "cell_type": "code",
      "source": [
        "# Grid Search with Cross-Validation\n",
        "for hidden_size in hidden_sizes:\n",
        "    for lr in learning_rates:\n",
        "        fold_accuracies = []\n",
        "\n",
        "        print(f\"\\n🔍 Trying config: hidden_size={hidden_size}, lr={lr}\")\n",
        "\n",
        "        for fold, (train_idx, val_idx) in enumerate(kf.split(X)):\n",
        "            model = NeuralNet(input_size, hidden_size).to(device)\n",
        "            optimizer = optim.Adam(model.parameters(), lr=lr)\n",
        "            criterion = nn.BCEWithLogitsLoss()\n",
        "\n",
        "            # Data split\n",
        "            X_train = X_tensor[train_idx].to(device)\n",
        "            y_train = y_tensor[train_idx].to(device)\n",
        "            X_val = X_tensor[val_idx].to(device)\n",
        "            y_val = y_tensor[val_idx].to(device)\n",
        "\n",
        "            # Training loop\n",
        "            for epoch in range(num_epochs):\n",
        "                model.train()\n",
        "                optimizer.zero_grad()\n",
        "                outputs = model(X_train)\n",
        "                loss = criterion(outputs, y_train.view(-1,1))\n",
        "                loss.backward()\n",
        "                optimizer.step()\n",
        "\n",
        "            # Evaluation\n",
        "            model.eval()\n",
        "            with torch.no_grad():\n",
        "                val_outputs = model(X_val)\n",
        "                val_probs = torch.sigmoid(val_outputs).cpu().numpy().flatten()\n",
        "                val_preds = np.round(val_probs)\n",
        "                val_labels = y_val.cpu().numpy()\n",
        "\n",
        "                acc = accuracy_score(val_labels, val_preds)\n",
        "                fold_accuracies.append(acc)\n",
        "\n",
        "            print(f\"  Fold {fold+1}/{k_folds}: Accuracy = {acc:.4f}\")\n",
        "\n",
        "        avg_acc = np.mean(fold_accuracies)\n",
        "        print(f\"📊 Avg Accuracy for config hidden_size={hidden_size}, lr={lr} = {avg_acc:.4f}\")\n",
        "\n",
        "        # Keep track of best\n",
        "        if avg_acc > best_val_acc:\n",
        "            best_val_acc = avg_acc\n",
        "            best_config = {'hidden_size': hidden_size, 'learning_rate': lr}"
      ],
      "metadata": {
        "id": "Rb5MtWgVQQv-",
        "outputId": "37c590f1-5e05-4731-f7f1-b92509e14475",
        "colab": {
          "base_uri": "https://localhost:8080/"
        }
      },
      "execution_count": 13,
      "outputs": [
        {
          "output_type": "stream",
          "name": "stdout",
          "text": [
            "\n",
            "🔍 Trying config: hidden_size=32, lr=0.001\n",
            "  Fold 1/5: Accuracy = 0.9737\n",
            "  Fold 2/5: Accuracy = 0.9035\n",
            "  Fold 3/5: Accuracy = 0.9561\n",
            "  Fold 4/5: Accuracy = 0.9211\n",
            "  Fold 5/5: Accuracy = 0.9204\n",
            "📊 Avg Accuracy for config hidden_size=32, lr=0.001 = 0.9349\n",
            "\n",
            "🔍 Trying config: hidden_size=32, lr=0.01\n",
            "  Fold 1/5: Accuracy = 0.9825\n",
            "  Fold 2/5: Accuracy = 0.9912\n",
            "  Fold 3/5: Accuracy = 0.9649\n",
            "  Fold 4/5: Accuracy = 0.9912\n",
            "  Fold 5/5: Accuracy = 0.9646\n",
            "📊 Avg Accuracy for config hidden_size=32, lr=0.01 = 0.9789\n",
            "\n",
            "🔍 Trying config: hidden_size=64, lr=0.001\n",
            "  Fold 1/5: Accuracy = 0.9649\n",
            "  Fold 2/5: Accuracy = 0.9298\n",
            "  Fold 3/5: Accuracy = 0.9561\n",
            "  Fold 4/5: Accuracy = 0.9561\n",
            "  Fold 5/5: Accuracy = 0.9381\n",
            "📊 Avg Accuracy for config hidden_size=64, lr=0.001 = 0.9490\n",
            "\n",
            "🔍 Trying config: hidden_size=64, lr=0.01\n",
            "  Fold 1/5: Accuracy = 0.9825\n",
            "  Fold 2/5: Accuracy = 0.9912\n",
            "  Fold 3/5: Accuracy = 0.9649\n",
            "  Fold 4/5: Accuracy = 0.9912\n",
            "  Fold 5/5: Accuracy = 0.9646\n",
            "📊 Avg Accuracy for config hidden_size=64, lr=0.01 = 0.9789\n"
          ]
        }
      ]
    },
    {
      "cell_type": "code",
      "source": [
        "print(\"\\n✅ Best Hyperparameter Configuration:\")\n",
        "print(best_config)\n",
        "print(f\"✅ Best Cross-Validated Accuracy: {best_val_acc:.4f}\")"
      ],
      "metadata": {
        "id": "t43h-q-dQQzk",
        "outputId": "12e974f0-9193-469d-8182-70b37c137272",
        "colab": {
          "base_uri": "https://localhost:8080/"
        }
      },
      "execution_count": 14,
      "outputs": [
        {
          "output_type": "stream",
          "name": "stdout",
          "text": [
            "\n",
            "✅ Best Hyperparameter Configuration:\n",
            "{'hidden_size': 32, 'learning_rate': 0.01}\n",
            "✅ Best Cross-Validated Accuracy: 0.9789\n"
          ]
        }
      ]
    },
    {
      "cell_type": "code",
      "source": [],
      "metadata": {
        "id": "mVLHh4MDQQ49"
      },
      "execution_count": null,
      "outputs": []
    },
    {
      "cell_type": "code",
      "source": [],
      "metadata": {
        "id": "RjMWzokUQQ-O"
      },
      "execution_count": null,
      "outputs": []
    },
    {
      "cell_type": "code",
      "source": [],
      "metadata": {
        "id": "aKZWGVGkQRG_"
      },
      "execution_count": null,
      "outputs": []
    }
  ]
}